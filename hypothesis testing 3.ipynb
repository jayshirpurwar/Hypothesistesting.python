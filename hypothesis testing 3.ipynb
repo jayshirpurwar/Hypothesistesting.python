{
  "nbformat": 4,
  "nbformat_minor": 0,
  "metadata": {
    "colab": {
      "provenance": []
    },
    "kernelspec": {
      "name": "python3",
      "display_name": "Python 3"
    },
    "language_info": {
      "name": "python"
    }
  },
  "cells": [
    {
      "cell_type": "code",
      "execution_count": 1,
      "metadata": {
        "id": "v7j-FwFH2z6y"
      },
      "outputs": [],
      "source": [
        "import numpy as np\n",
        "from scipy.stats import chi2_contingency"
      ]
    },
    {
      "cell_type": "code",
      "source": [
        "# Example data (replace with your actual data)"
      ],
      "metadata": {
        "id": "zbJybzW82388"
      },
      "execution_count": null,
      "outputs": []
    },
    {
      "cell_type": "code",
      "source": [
        "data = np.array([\n",
        "    [50, 435],  # Region 1\n",
        "    [142,1523],  # Region 2\n",
        "    [131,1356],  # Region 3\n",
        "    [70,750],  # Region 4\n",
        "])"
      ],
      "metadata": {
        "id": "DxpYJXtA4X1-"
      },
      "execution_count": 6,
      "outputs": []
    },
    {
      "cell_type": "code",
      "source": [
        "chi2_stat, p_value, dof, expected = chi2_contingency(data)\n"
      ],
      "metadata": {
        "id": "t1Qnju0u4pFR"
      },
      "execution_count": 7,
      "outputs": []
    },
    {
      "cell_type": "code",
      "source": [
        "print(\"Chi-square Statistic:\", chi2_stat)\n",
        "print(\"P-value:\", p_value)\n",
        "print(\"Degrees of Freedom:\", dof)\n",
        "print(\"Expected Frequencies Table:\")\n",
        "print(expected)"
      ],
      "metadata": {
        "colab": {
          "base_uri": "https://localhost:8080/"
        },
        "id": "CpBavL3w4xQ5",
        "outputId": "50f42424-8155-4bec-8b86-3811f7bc056c"
      },
      "execution_count": 8,
      "outputs": [
        {
          "output_type": "stream",
          "name": "stdout",
          "text": [
            "Chi-square Statistic: 1.5959455386610577\n",
            "P-value: 0.6603094907091882\n",
            "Degrees of Freedom: 3\n",
            "Expected Frequencies Table:\n",
            "[[  42.76531299  442.23468701]\n",
            " [ 146.81287862 1518.18712138]\n",
            " [ 131.11756787 1355.88243213]\n",
            " [  72.30424052  747.69575948]]\n"
          ]
        }
      ]
    },
    {
      "cell_type": "code",
      "source": [
        "alpha = 0.05\n",
        "if p_value < alpha:\n",
        "    print(\"Reject the null hypothesis. Male-female buyer ratios are not similar across regions.\")\n",
        "else:\n",
        "    print(\"Fail to reject the null hypothesis. Male-female buyer ratios are similar across regions.\")"
      ],
      "metadata": {
        "colab": {
          "base_uri": "https://localhost:8080/"
        },
        "id": "nQmjl0W4413Z",
        "outputId": "4637e1d3-1f70-454c-cb04-fb0131067883"
      },
      "execution_count": 9,
      "outputs": [
        {
          "output_type": "stream",
          "name": "stdout",
          "text": [
            "Fail to reject the null hypothesis. Male-female buyer ratios are similar across regions.\n"
          ]
        }
      ]
    }
  ]
}