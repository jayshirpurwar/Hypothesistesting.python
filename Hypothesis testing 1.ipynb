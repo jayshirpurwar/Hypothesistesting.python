{
  "nbformat": 4,
  "nbformat_minor": 0,
  "metadata": {
    "colab": {
      "provenance": []
    },
    "kernelspec": {
      "name": "python3",
      "display_name": "Python 3"
    },
    "language_info": {
      "name": "python"
    }
  },
  "cells": [
    {
      "cell_type": "code",
      "source": [
        "import numpy as np\n",
        "from scipy.stats import shapiro, levene, ttest_ind\n"
      ],
      "metadata": {
        "id": "Tq9x1UCmD1Ya"
      },
      "execution_count": 1,
      "outputs": []
    },
    {
      "cell_type": "code",
      "source": [
        "unitA = np.array([6.809, 6.7703, 7.5093, 6.9157, 6.73, 7.3012, 6.7878, 7.4488, 7.1522, 7.3871, 6.811, 6.8755, 7.2212, 7.0621])\n",
        "unitB = np.array([6.684, 6.6606, 7.2402, 6.8236, 7.0503, 7.393, 6.881, 7.5169, 7.4059, 6.9246, 6.7652, 6.9256, 6.038, 6.5797])"
      ],
      "metadata": {
        "id": "zE8y7wj9D1a3"
      },
      "execution_count": 5,
      "outputs": []
    },
    {
      "cell_type": "code",
      "source": [
        "# Assumption 1: Normality Test using Shapiro-Wilk test\n",
        "_, p_value_unitA= shapiro(unit1)\n",
        "_, p_value_unitB = shapiro(unit2)"
      ],
      "metadata": {
        "id": "NrZfimfLFTWt"
      },
      "execution_count": 7,
      "outputs": []
    },
    {
      "cell_type": "code",
      "source": [
        "print(f\"Shapiro-Wilk Test p-value for UnitA: {p_value_unit1}\")\n",
        "print(f\"Shapiro-Wilk Test p-value for UnitB: {p_value_unit2}\")\n"
      ],
      "metadata": {
        "colab": {
          "base_uri": "https://localhost:8080/"
        },
        "id": "OkUKiB7yFou7",
        "outputId": "3970d91d-5745-4412-d76a-3b9ed9a62a8e"
      },
      "execution_count": 9,
      "outputs": [
        {
          "output_type": "stream",
          "name": "stdout",
          "text": [
            "Shapiro-Wilk Test p-value for UnitA: 0.09119459241628647\n",
            "Shapiro-Wilk Test p-value for UnitB: 0.5781630873680115\n"
          ]
        }
      ]
    },
    {
      "cell_type": "code",
      "source": [
        "# Assumption 2: Homogeneity of variances using Levene's test\n",
        "_, p_value_levene = levene(unitA, unitB)\n"
      ],
      "metadata": {
        "id": "V4E5UFcOF7lq"
      },
      "execution_count": 11,
      "outputs": []
    },
    {
      "cell_type": "code",
      "source": [
        "print(f\"Levene's Test p-value: {p_value_levene}\")\n"
      ],
      "metadata": {
        "colab": {
          "base_uri": "https://localhost:8080/"
        },
        "id": "HNcrMCxnGHsN",
        "outputId": "2a21fc08-3a46-4053-8583-c8f9edd194e8"
      },
      "execution_count": 12,
      "outputs": [
        {
          "output_type": "stream",
          "name": "stdout",
          "text": [
            "Levene's Test p-value: 0.5568017869935169\n"
          ]
        }
      ]
    },
    {
      "cell_type": "code",
      "source": [
        "# Check if assumptions are met\n",
        "if p_value_unit1 > 0.05 and p_value_unit2 > 0.05 and p_value_levene > 0.05:\n",
        "    print(\"Assumptions are met. Proceeding with the t-test.\")"
      ],
      "metadata": {
        "colab": {
          "base_uri": "https://localhost:8080/"
        },
        "id": "BdR4oZbEGNHW",
        "outputId": "4a380c37-858a-454e-b141-9400fd6f290d"
      },
      "execution_count": 13,
      "outputs": [
        {
          "output_type": "stream",
          "name": "stdout",
          "text": [
            "Assumptions are met. Proceeding with the t-test.\n"
          ]
        }
      ]
    },
    {
      "cell_type": "code",
      "source": [
        "# Perform two-sample t-test\n",
        "_, p_value_ttest = ttest_ind(unitA, unitB)"
      ],
      "metadata": {
        "id": "XmEEMDQmGTRw"
      },
      "execution_count": 15,
      "outputs": []
    },
    {
      "cell_type": "code",
      "source": [
        "print(f\"Two-sample t-test p-value: {p_value_ttest}\")"
      ],
      "metadata": {
        "colab": {
          "base_uri": "https://localhost:8080/"
        },
        "id": "1UhOZ94tGfPP",
        "outputId": "a01ad7ff-62b2-4ee0-dbc5-9c7e488a69d7"
      },
      "execution_count": 16,
      "outputs": [
        {
          "output_type": "stream",
          "name": "stdout",
          "text": [
            "Two-sample t-test p-value: 0.3009777453800851\n"
          ]
        }
      ]
    },
    {
      "cell_type": "code",
      "source": [
        "print(\"There is a significant difference in the diameter of the cutlet between two units.\")"
      ],
      "metadata": {
        "colab": {
          "base_uri": "https://localhost:8080/"
        },
        "id": "bvmLrhMLHseR",
        "outputId": "b328e52c-2206-427a-8625-ff3f04245b89"
      },
      "execution_count": 20,
      "outputs": [
        {
          "output_type": "stream",
          "name": "stdout",
          "text": [
            "There is a significant difference in the diameter of the cutlet between two units.\n"
          ]
        }
      ]
    }
  ]
}