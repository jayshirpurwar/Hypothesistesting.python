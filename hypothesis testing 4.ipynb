{
  "nbformat": 4,
  "nbformat_minor": 0,
  "metadata": {
    "colab": {
      "provenance": []
    },
    "kernelspec": {
      "name": "python3",
      "display_name": "Python 3"
    },
    "language_info": {
      "name": "python"
    }
  },
  "cells": [
    {
      "cell_type": "code",
      "execution_count": 1,
      "metadata": {
        "id": "R1sR8VPd5GAo"
      },
      "outputs": [],
      "source": [
        "import numpy as np\n",
        "from scipy.stats import chi2_contingency"
      ]
    },
    {
      "cell_type": "code",
      "source": [
        "import pandas as pd\n",
        "\n",
        "# Specify the path to your CSV file\n",
        "csv_file_path = \"/content/Costomer+OrderForm.csv\"\n",
        "\n",
        "# Read the CSV file into a DataFrame\n",
        "df = pd.read_csv(csv_file_path)\n",
        "\n",
        "# Display the first few rows of the DataFrame\n",
        "print(df.head())\n"
      ],
      "metadata": {
        "colab": {
          "base_uri": "https://localhost:8080/"
        },
        "id": "Vsjl-tdy7pyC",
        "outputId": "8e5f01b4-f10e-41b8-c0c7-d0fbb661200f"
      },
      "execution_count": 3,
      "outputs": [
        {
          "output_type": "stream",
          "name": "stdout",
          "text": [
            "  Phillippines   Indonesia       Malta       India\n",
            "0   Error Free  Error Free   Defective  Error Free\n",
            "1   Error Free  Error Free  Error Free   Defective\n",
            "2   Error Free   Defective   Defective  Error Free\n",
            "3   Error Free  Error Free  Error Free  Error Free\n",
            "4   Error Free  Error Free   Defective  Error Free\n"
          ]
        }
      ]
    },
    {
      "cell_type": "code",
      "source": [
        "# Create a DataFrame\n",
        "df = pd.DataFrame(data, index=['Defective', 'Error Free'])"
      ],
      "metadata": {
        "id": "7roD9uW39tjJ"
      },
      "execution_count": 7,
      "outputs": []
    },
    {
      "cell_type": "code",
      "source": [
        "# Print the results\n",
        "print(\"Chi-square Statistic:\", chi2_stat)\n",
        "print(\"P-value:\", p_value)\n",
        "print(\"Degrees of Freedom:\", dof)\n",
        "print(\"Expected Frequencies Table:\")\n"
      ],
      "metadata": {
        "colab": {
          "base_uri": "https://localhost:8080/"
        },
        "id": "GMFsNMDS-Sn4",
        "outputId": "14c355ba-7066-4cfa-fefb-c36cf51b4cf6"
      },
      "execution_count": 11,
      "outputs": [
        {
          "output_type": "stream",
          "name": "stdout",
          "text": [
            "Chi-square Statistic: 3.37633381111642\n",
            "P-value: 0.3371589225719368\n",
            "Degrees of Freedom: 3\n",
            "Expected Frequencies Table:\n"
          ]
        }
      ]
    },
    {
      "cell_type": "code",
      "source": [
        "print(pd.DataFrame(expected, index=['Defective', 'Error Free'], columns=df.columns))"
      ],
      "metadata": {
        "colab": {
          "base_uri": "https://localhost:8080/"
        },
        "id": "B_GkRVc9-ekf",
        "outputId": "c96fa61f-18c7-4199-9be5-c40cccd5e9f8"
      },
      "execution_count": 12,
      "outputs": [
        {
          "output_type": "stream",
          "name": "stdout",
          "text": [
            "            Center 1  Center 2  Center 3  Center 4\n",
            "Defective       19.5      19.5      19.5      19.5\n",
            "Error Free      80.5      80.5      80.5      80.5\n"
          ]
        }
      ]
    },
    {
      "cell_type": "code",
      "source": [
        "# Check the significance level\n",
        "alpha = 0.05\n",
        "if p_value < alpha:\n",
        "    print(\"Reject the null hypothesis. The defective percentage varies by center.\")\n",
        "else:\n",
        "    print(\"Fail to reject the null hypothesis. There is no significant difference in the defective percentage across centers.\")"
      ],
      "metadata": {
        "colab": {
          "base_uri": "https://localhost:8080/"
        },
        "id": "bmzeONi3-uNW",
        "outputId": "bffe4af8-ea4b-4fee-a08c-426266e37100"
      },
      "execution_count": 13,
      "outputs": [
        {
          "output_type": "stream",
          "name": "stdout",
          "text": [
            "Fail to reject the null hypothesis. There is no significant difference in the defective percentage across centers.\n"
          ]
        }
      ]
    }
  ]
}