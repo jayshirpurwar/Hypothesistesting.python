{
  "nbformat": 4,
  "nbformat_minor": 0,
  "metadata": {
    "colab": {
      "provenance": []
    },
    "kernelspec": {
      "name": "python3",
      "display_name": "Python 3"
    },
    "language_info": {
      "name": "python"
    }
  },
  "cells": [
    {
      "cell_type": "code",
      "execution_count": 1,
      "metadata": {
        "id": "K3kdGL1-zHjC"
      },
      "outputs": [],
      "source": [
        "import scipy.stats as stats\n"
      ]
    },
    {
      "cell_type": "code",
      "source": [
        "# TAT data for each laboratory\n",
        "lab1 = [185.35,170.49,192.77,177.33,193.41]\n",
        "lab2 = [165.53,185.91,194.92,183,169.57]\n",
        "lab3 = [176.7,198.45,201.23,199.61,204.63]\n",
        "lab4 = [166.13,160.79,185.18,176.42,152.6]"
      ],
      "metadata": {
        "id": "2RRwyzRZzYWX"
      },
      "execution_count": 2,
      "outputs": []
    },
    {
      "cell_type": "code",
      "source": [
        "# Perform one-way ANOVA\n",
        "statistic, p_value = stats.f_oneway(lab1, lab2, lab3, lab4)\n"
      ],
      "metadata": {
        "id": "FeM2AiB01DxN"
      },
      "execution_count": 3,
      "outputs": []
    },
    {
      "cell_type": "code",
      "source": [
        "# Print the results\n",
        "print(\"ANOVA Statistic:\", statistic)\n",
        "print(\"P-value:\", p_value)\n"
      ],
      "metadata": {
        "colab": {
          "base_uri": "https://localhost:8080/"
        },
        "id": "8RQx7AZ11IBg",
        "outputId": "bb2a737a-7d04-4c05-f994-2c5ae5b0b4cc"
      },
      "execution_count": 4,
      "outputs": [
        {
          "output_type": "stream",
          "name": "stdout",
          "text": [
            "ANOVA Statistic: 4.977657221773666\n",
            "P-value: 0.012559049971997725\n"
          ]
        }
      ]
    },
    {
      "cell_type": "code",
      "source": [
        "# Check the significance level\n",
        "alpha = 0.05\n",
        "if p_value < alpha:\n",
        "    print(\"Reject the null hypothesis. There is a significant difference in average TAT among laboratories.\")\n",
        "else:\n",
        "    print(\"Fail to reject the null hypothesis. There is no significant difference in average TAT among laboratories.\")\n"
      ],
      "metadata": {
        "colab": {
          "base_uri": "https://localhost:8080/"
        },
        "id": "bi3ZvGRt1ZeO",
        "outputId": "49ea7b28-c469-413b-9fe8-484296e032fb"
      },
      "execution_count": 5,
      "outputs": [
        {
          "output_type": "stream",
          "name": "stdout",
          "text": [
            "Reject the null hypothesis. There is a significant difference in average TAT among laboratories.\n"
          ]
        }
      ]
    },
    {
      "cell_type": "code",
      "source": [],
      "metadata": {
        "id": "LFE4n0qb1Zft"
      },
      "execution_count": null,
      "outputs": []
    }
  ]
}